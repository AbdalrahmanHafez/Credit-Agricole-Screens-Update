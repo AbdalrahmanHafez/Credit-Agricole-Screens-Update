{
 "cells": [
  {
   "cell_type": "code",
   "execution_count": 17,
   "id": "bf88a400",
   "metadata": {},
   "outputs": [],
   "source": [
    "import win32com.client\n",
    "import os\n",
    "from photoshop import Session\n",
    "import photoshop.api as ps\n",
    "import keyboard\n",
    "import time\n",
    "import subprocess\n",
    "import winsound\n",
    "import shutil\n",
    "from tqdm import tqdm\n",
    "\n",
    "input_dir = r\"C:\\Users\\dahom\\Desktop\\ps_screen\\Resize_PSD\\input\"\n",
    "output_dir = r\"C:\\Users\\dahom\\Desktop\\ps_screen\\Resize_PSD\\output\""
   ]
  },
  {
   "cell_type": "code",
   "execution_count": 10,
   "id": "19914856",
   "metadata": {},
   "outputs": [],
   "source": [
    "app = win32com.client.Dispatch('Photoshop.Application')\n",
    "app.DisplayDialogs = 3"
   ]
  },
  {
   "cell_type": "code",
   "execution_count": 11,
   "id": "d7cdf421",
   "metadata": {},
   "outputs": [],
   "source": [
    "#allLayers=[]\n",
    "def getAllLayers(doc, allLayers):\n",
    "    for i in range(0, len(doc.Layers)):\n",
    "        layer = doc.Layers[i]\n",
    "        if(layer.typename == 'ArtLayer'):\n",
    "            allLayers.append(layer)\n",
    "        else:\n",
    "            getAllLayers(layer, allLayers)\n",
    "    return allLayers\n",
    "\n",
    "def rasterizeProblematic():\n",
    "    problematic = [\"Vector Smart Object copy\", \"Vector Smart Object\"]\n",
    "    for layer in getAllLayers(doc, []):\n",
    "        if(layer.Kind == 17 and layer.name in problematic):\n",
    "#             print(f'\\t rasterizing {layer.name}')\n",
    "            layer.Rasterize(6)"
   ]
  },
  {
   "cell_type": "code",
   "execution_count": 12,
   "id": "d7dd9a61",
   "metadata": {},
   "outputs": [],
   "source": [
    "# app = win32com.client.Dispatch('Photoshop.Application')\n",
    "# app.Open(r\"C:\\Users\\dahom\\Desktop\\ps_screen\\Project.psd\")\n",
    "# doc = app.Application.ActiveDocument"
   ]
  },
  {
   "cell_type": "code",
   "execution_count": 13,
   "id": "e15e0228",
   "metadata": {},
   "outputs": [],
   "source": [
    "def saveTo(path, method=2):\n",
    "    if(method == 0): #PSD\n",
    "#         doc.SaveAs(SaveIn=path, AsCopy=True, ExtensionType=2)\n",
    "        options = win32com.client.Dispatch('Photoshop.PhotoshopSaveOptions')\n",
    "        options.embedColorProfile = True;\n",
    "        options.alphaChannels = True;\n",
    "        doc.SaveAs(SaveIn=path, AsCopy=False, Options=options, ExtensionType=2)\n",
    "    elif(method == 1):\n",
    "        options = win32com.client.Dispatch('Photoshop.PNGSaveOptions')\n",
    "        doc.SaveAs(SaveIn=path, Options=options, AsCopy=True, ExtensionType=2)\n",
    "    else:\n",
    "        # Very small Size compared to SaveAs\n",
    "        options = win32com.client.Dispatch('Photoshop.ExportOptionsSaveForWeb')\n",
    "        options.Format = 13\n",
    "        options.PNG8 = False\n",
    "        doc.Export(ExportIn=path, ExportAs=2, Options=options)"
   ]
  },
  {
   "cell_type": "code",
   "execution_count": 18,
   "id": "95e62503",
   "metadata": {},
   "outputs": [
    {
     "name": "stderr",
     "output_type": "stream",
     "text": [
      "\r",
      "  0%|                                                                                          | 0/279 [00:00<?, ?it/s]"
     ]
    },
    {
     "name": "stdout",
     "output_type": "stream",
     "text": [
      "279 proccessing (BNA Ready ADV.psd)\n"
     ]
    },
    {
     "name": "stderr",
     "output_type": "stream",
     "text": [
      "\r",
      "  0%|▎                                                                                 | 1/279 [00:08<37:58,  8.20s/it]"
     ]
    },
    {
     "name": "stdout",
     "output_type": "stream",
     "text": [
      "278 proccessing (cardless_ar.psd)\n"
     ]
    },
    {
     "name": "stderr",
     "output_type": "stream",
     "text": [
      "\r",
      "  1%|▌                                                                                 | 2/279 [00:21<52:36, 11.40s/it]"
     ]
    },
    {
     "name": "stdout",
     "output_type": "stream",
     "text": [
      "277 proccessing (cardless_en.psd)\n"
     ]
    },
    {
     "name": "stderr",
     "output_type": "stream",
     "text": [
      "  1%|▌                                                                               | 2/279 [00:28<1:05:31, 14.19s/it]\n"
     ]
    },
    {
     "ename": "KeyboardInterrupt",
     "evalue": "",
     "output_type": "error",
     "traceback": [
      "\u001b[1;31m---------------------------------------------------------------------------\u001b[0m",
      "\u001b[1;31mKeyboardInterrupt\u001b[0m                         Traceback (most recent call last)",
      "\u001b[1;32m~\\AppData\\Local\\Temp/ipykernel_5384/3251915572.py\u001b[0m in \u001b[0;36m<module>\u001b[1;34m\u001b[0m\n\u001b[0;32m      7\u001b[0m         \u001b[0mdoc\u001b[0m \u001b[1;33m=\u001b[0m \u001b[0mapp\u001b[0m\u001b[1;33m.\u001b[0m\u001b[0mApplication\u001b[0m\u001b[1;33m.\u001b[0m\u001b[0mActiveDocument\u001b[0m\u001b[1;33m\u001b[0m\u001b[1;33m\u001b[0m\u001b[0m\n\u001b[0;32m      8\u001b[0m         \u001b[0mrasterizeProblematic\u001b[0m\u001b[1;33m(\u001b[0m\u001b[1;33m)\u001b[0m\u001b[1;33m\u001b[0m\u001b[1;33m\u001b[0m\u001b[0m\n\u001b[1;32m----> 9\u001b[1;33m         \u001b[0mdoc\u001b[0m\u001b[1;33m.\u001b[0m\u001b[0mResizeImage\u001b[0m\u001b[1;33m(\u001b[0m\u001b[1;36m800\u001b[0m\u001b[1;33m,\u001b[0m \u001b[1;36m600\u001b[0m\u001b[1;33m,\u001b[0m \u001b[1;36m150\u001b[0m\u001b[1;33m,\u001b[0m \u001b[1;36m8\u001b[0m\u001b[1;33m)\u001b[0m\u001b[1;33m\u001b[0m\u001b[1;33m\u001b[0m\u001b[0m\n\u001b[0m\u001b[0;32m     10\u001b[0m         \u001b[0msaveTo\u001b[0m\u001b[1;33m(\u001b[0m\u001b[0mos\u001b[0m\u001b[1;33m.\u001b[0m\u001b[0mpath\u001b[0m\u001b[1;33m.\u001b[0m\u001b[0mjoin\u001b[0m\u001b[1;33m(\u001b[0m\u001b[0moutput_dir\u001b[0m\u001b[1;33m,\u001b[0m \u001b[0mnoextFile\u001b[0m\u001b[1;33m)\u001b[0m\u001b[1;33m,\u001b[0m \u001b[1;36m1\u001b[0m\u001b[1;33m)\u001b[0m \u001b[1;31m# save to output\u001b[0m\u001b[1;33m\u001b[0m\u001b[1;33m\u001b[0m\u001b[0m\n\u001b[0;32m     11\u001b[0m         \u001b[0msaveTo\u001b[0m\u001b[1;33m(\u001b[0m\u001b[0mos\u001b[0m\u001b[1;33m.\u001b[0m\u001b[0mpath\u001b[0m\u001b[1;33m.\u001b[0m\u001b[0mjoin\u001b[0m\u001b[1;33m(\u001b[0m\u001b[0moutput_dir\u001b[0m\u001b[1;33m,\u001b[0m \u001b[0mfile\u001b[0m\u001b[1;33m)\u001b[0m\u001b[1;33m,\u001b[0m\u001b[1;36m0\u001b[0m\u001b[1;33m)\u001b[0m \u001b[1;31m# save to output\u001b[0m\u001b[1;33m\u001b[0m\u001b[1;33m\u001b[0m\u001b[0m\n",
      "\u001b[1;32mc:\\users\\dahom\\appdata\\local\\programs\\python\\python38\\lib\\site-packages\\win32com\\client\\dynamic.py\u001b[0m in \u001b[0;36mResizeImage\u001b[1;34m(self, Width, Height, Resolution, ResampleMethod, Amount)\u001b[0m\n",
      "\u001b[1;31mKeyboardInterrupt\u001b[0m: "
     ]
    }
   ],
   "source": [
    "for root, directories, files in os.walk(input_dir, topdown=False):\n",
    "    for file in tqdm(files):\n",
    "        file_path = os.path.join(root, file)\n",
    "        noextFile = os.path.splitext(file)[0]\n",
    "        print(f'{len(os.listdir(input_dir))} proccessing ({file})')\n",
    "        app.Open(file_path)\n",
    "        doc = app.Application.ActiveDocument\n",
    "        rasterizeProblematic()\n",
    "        doc.ResizeImage(800, 600, 150, 8)\n",
    "        saveTo(os.path.join(output_dir, noextFile), 1) # save to output\n",
    "        saveTo(os.path.join(output_dir, file),0) # save to output\n",
    "        doc.Close(2)\n",
    "        os.remove(file_path) #remove from input\n",
    "#         1/0"
   ]
  },
  {
   "cell_type": "code",
   "execution_count": null,
   "id": "16a2cd71",
   "metadata": {},
   "outputs": [],
   "source": []
  }
 ],
 "metadata": {
  "kernelspec": {
   "display_name": "Python 3 (ipykernel)",
   "language": "python",
   "name": "python3"
  },
  "language_info": {
   "codemirror_mode": {
    "name": "ipython",
    "version": 3
   },
   "file_extension": ".py",
   "mimetype": "text/x-python",
   "name": "python",
   "nbconvert_exporter": "python",
   "pygments_lexer": "ipython3",
   "version": "3.8.6"
  }
 },
 "nbformat": 4,
 "nbformat_minor": 5
}
