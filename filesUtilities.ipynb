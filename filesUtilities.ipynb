{
 "cells": [
  {
   "cell_type": "code",
   "execution_count": 3,
   "id": "0d240928",
   "metadata": {},
   "outputs": [],
   "source": [
    "import os\n",
    "src_dir = r\"C:\\Users\\dahom\\Desktop\\ps_screen\\output\"\n",
    "target_dir = r\"C:\\Users\\dahom\\Desktop\\ABO\\Study\\InternShip\\Credit_Agricole\\Archive\\from Youssef\""
   ]
  },
  {
   "cell_type": "code",
   "execution_count": 51,
   "id": "3e90f87f",
   "metadata": {},
   "outputs": [
    {
     "name": "stdout",
     "output_type": "stream",
     "text": [
      "b1 got: 25/25        set()\n",
      "b2 got: 25/25        set()\n",
      "b3 got: 25/25        set()\n",
      "b4 got: 25/25        set()\n",
      "b5 got: 50/50        set()\n",
      "b6 got: 50/50        set()\n",
      "b7 got: 50/50        set()\n",
      "b8 got: 30/30        set()\n"
     ]
    }
   ],
   "source": [
    "# len(getFiles(target_dir))\n",
    "for root, directories, files in os.walk(target_dir, topdown=False):\n",
    "    if(len(directories) == 0): # not the zipped archives\n",
    "        batchname = root[-2:]\n",
    "        noExtFiles = [os.path.splitext(f)[0] for f in files]\n",
    "        match = compList(noExtFiles, src_files)\n",
    "        remFiles = set(noExtFiles).difference(set(noExtFiles).intersection(set(src_files)))\n",
    "        print(f'{batchname} got: {match}/{len(noExtFiles)}\\\n",
    "        {remFiles}')\n",
    "        "
   ]
  },
  {
   "cell_type": "code",
   "execution_count": 53,
   "id": "6651fe1e",
   "metadata": {},
   "outputs": [],
   "source": [
    "# Sort the output jpg images to batches files"
   ]
  },
  {
   "cell_type": "code",
   "execution_count": 4,
   "id": "ff7846e7",
   "metadata": {},
   "outputs": [],
   "source": [
    "src_files = []\n",
    "for root, directories, files in os.walk(src_dir, topdown=False):\n",
    "    if(root == src_dir): #only files\n",
    "        src_files = [os.path.splitext(f)[0] for f in files]\n",
    "    "
   ]
  },
  {
   "cell_type": "code",
   "execution_count": 6,
   "id": "d652ac3c",
   "metadata": {},
   "outputs": [],
   "source": [
    "def compList(list_1,list_2):\n",
    "    return (len(set(list_1).intersection(list_2)))\n"
   ]
  },
  {
   "cell_type": "code",
   "execution_count": 52,
   "id": "4c777724",
   "metadata": {},
   "outputs": [
    {
     "data": {
      "text/plain": [
       "{'.gdriveignore'}"
      ]
     },
     "execution_count": 52,
     "metadata": {},
     "output_type": "execute_result"
    }
   ],
   "source": [
    "# psd file contained 279 not 280 what is missing ?\n",
    "psd_dir = r\"C:\\Users\\dahom\\Desktop\\ps_screen\\output\\PSD\"\n",
    "output_dir = r\"C:\\Users\\dahom\\Desktop\\ps_screen\\output\"\n",
    "png_files = []\n",
    "psd_files = []\n",
    "for root, directories, files in os.walk(output_dir, topdown=False):\n",
    "    if(root == output_dir):\n",
    "        png_files = [os.path.splitext(f)[0] for f in files]\n",
    "\n",
    "for root, directories, files in os.walk(psd_dir, topdown=False):\n",
    "    if(root == psd_dir):\n",
    "        psd_files = [os.path.splitext(f)[0] for f in files]\n",
    "\n",
    "set(png_files).difference(set(psd_files).intersection(set(png_files)))"
   ]
  },
  {
   "cell_type": "code",
   "execution_count": null,
   "id": "6d64baad",
   "metadata": {},
   "outputs": [],
   "source": [
    "# "
   ]
  }
 ],
 "metadata": {
  "kernelspec": {
   "display_name": "Python 3 (ipykernel)",
   "language": "python",
   "name": "python3"
  },
  "language_info": {
   "codemirror_mode": {
    "name": "ipython",
    "version": 3
   },
   "file_extension": ".py",
   "mimetype": "text/x-python",
   "name": "python",
   "nbconvert_exporter": "python",
   "pygments_lexer": "ipython3",
   "version": "3.8.6"
  }
 },
 "nbformat": 4,
 "nbformat_minor": 5
}
