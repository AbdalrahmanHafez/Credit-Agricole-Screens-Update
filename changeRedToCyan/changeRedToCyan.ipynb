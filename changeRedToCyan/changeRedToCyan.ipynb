{
 "cells": [
  {
   "cell_type": "code",
   "execution_count": 1,
   "id": "bf88a400",
   "metadata": {},
   "outputs": [],
   "source": [
    "import win32com.client\n",
    "import os\n",
    "import re\n",
    "from photoshop import Session\n",
    "import photoshop.api as ps\n",
    "import keyboard\n",
    "import time\n",
    "import subprocess\n",
    "from tqdm import tqdm\n",
    "import cv2\n",
    "import pyautogui\n",
    "import numpy as np"
   ]
  },
  {
   "cell_type": "code",
   "execution_count": 2,
   "id": "d7dd9a61",
   "metadata": {},
   "outputs": [],
   "source": [
    "app = win32com.client.Dispatch('Photoshop.Application')\n",
    "app.Open(r\"C:\\Users\\dahom\\Desktop\\ps_screen\\output\\Screens_640\\Screens_PSD\\DCC002.psd\")\n",
    "doc = app.Application.ActiveDocument\n",
    "app.DisplayDialogs = 3"
   ]
  },
  {
   "cell_type": "code",
   "execution_count": 3,
   "id": "e331aa20",
   "metadata": {},
   "outputs": [],
   "source": [
    "allLayers=[]\n",
    "def getAllLayers(doc, allLayers):\n",
    "    for i in range(0, len(doc.Layers)):\n",
    "        layer = doc.Layers[i]\n",
    "        if(layer.typename == 'ArtLayer'):\n",
    "            allLayers.append(layer)\n",
    "        else:\n",
    "            getAllLayers(layer, allLayers)\n",
    "    return allLayers"
   ]
  },
  {
   "cell_type": "code",
   "execution_count": 17,
   "id": "1fd7ef45",
   "metadata": {},
   "outputs": [],
   "source": [
    "def editButton(num, newText):\n",
    "    # edit a specific buttons text\n",
    "    lang = getLang(newText)\n",
    "    #print('btn{}.lang({})'.format(str(num), lang))\n",
    "    layer = doc.LayerSets(\"Buttons\").Layers(\"btn\"+str(num)).Layers(lang)\n",
    "    layer.visible = True\n",
    "    text_of_layer = layer.TextItem\n",
    "    text_of_layer.contents = newText\n",
    "    #  hide the other text?\n",
    "    doc.LayerSets(\"Buttons\").Layers(\"btn\"+str(num)).Layers('ara' if lang == 'eng' else 'eng').visible = False\n"
   ]
  },
  {
   "cell_type": "code",
   "execution_count": 18,
   "id": "256c9a04",
   "metadata": {},
   "outputs": [],
   "source": [
    "# AddText, disable else text\n",
    "def createText(text, pos):\n",
    "    lang = getLang(text)\n",
    "    layer = doc.LayerSets(\"Buttons\").Layers(\"floatingText\")\n",
    "    layer = doc.ArtLayers.Add()\n",
    "    layer.kind = 2 #TEXT\n",
    "    layer.textItem.contents = text\n",
    "    layer.textItem.position = [pos[0], pos[1]]\n",
    "    layer.textItem.size = 13 if lang == 'eng' else 14\n",
    "    layer.textItem.Font = 'AvantGardeITCbyBT-Medium' if lang == 'eng' else 'GESSTextMedium-Medium'\n",
    "    layer.textItem.Justification = 3 if lang == 'eng' else 1\n",
    "    # Color???\n",
    "    layer.Move(doc.LayerSets(\"Buttons\").LayerSets(\"floatingText\"),1)\n",
    "    return layer\n"
   ]
  },
  {
   "cell_type": "code",
   "execution_count": 8,
   "id": "917b04e4",
   "metadata": {},
   "outputs": [],
   "source": [
    "# filename = 'ICON257.jpg'\n",
    "# mngText(filename)\n",
    "# mngButtons(filename)"
   ]
  },
  {
   "cell_type": "code",
   "execution_count": 4,
   "id": "e15e0228",
   "metadata": {},
   "outputs": [],
   "source": [
    "def saveTo(path, method=2):\n",
    "    if(method == 0): #PSD\n",
    "#         doc.SaveAs(SaveIn=path, AsCopy=True, ExtensionType=2)\n",
    "        options = win32com.client.Dispatch('Photoshop.PhotoshopSaveOptions')\n",
    "        options.embedColorProfile = True;\n",
    "        options.alphaChannels = True;\n",
    "        doc.SaveAs(SaveIn=path, AsCopy=False, Options=options, ExtensionType=2)\n",
    "    elif(method == 1):\n",
    "        options = win32com.client.Dispatch('Photoshop.PNGSaveOptions')\n",
    "        doc.SaveAs(SaveIn=path, Options=options, AsCopy=True, ExtensionType=2)\n",
    "    else:\n",
    "        # Very small Size compared to SaveAs\n",
    "        options = win32com.client.Dispatch('Photoshop.ExportOptionsSaveForWeb')\n",
    "        options.Format = 13\n",
    "        options.PNG8 = False\n",
    "        doc.Export(ExportIn=path, ExportAs=2, Options=options)"
   ]
  },
  {
   "cell_type": "code",
   "execution_count": 20,
   "id": "f78c2a1e",
   "metadata": {},
   "outputs": [],
   "source": [
    "def do_action(filename):\n",
    "    filePath = os.path.join(input_dir, filename)\n",
    "    outFilePath = os.path.join(output_dir, filename)\n",
    "    mngText(filePath)\n",
    "    mngButtons(filePath)\n",
    "   "
   ]
  },
  {
   "cell_type": "code",
   "execution_count": 54,
   "id": "8f018c9c",
   "metadata": {},
   "outputs": [],
   "source": [
    "# def needAction():\n",
    "#     image = pyautogui.screenshot()\n",
    "#     image = cv2.cvtColor(np.array(image), cv2.COLOR_RGB2BGR)\n",
    "#     for x in range(image.shape[0]):\n",
    "#         for y in range(image.shape[1]):\n",
    "#             b, g, r = image[x, y]\n",
    "#             if((r, g, b) == (0, 139, 147)):\n",
    "#                 return True\n",
    "#     return False"
   ]
  },
  {
   "cell_type": "code",
   "execution_count": 5,
   "id": "8ce06b8e",
   "metadata": {},
   "outputs": [],
   "source": [
    "def rasterizeProblematic(allLayers):\n",
    "    problematic = [\"Vector Smart Object copy\", \"Vector Smart Object\"]\n",
    "    for layer in allLayers:\n",
    "        if(layer.Kind == 17 and layer.name in problematic):\n",
    "#             print(f'\\t rasterizing {layer.name}')\n",
    "            layer.Rasterize(6)"
   ]
  },
  {
   "cell_type": "code",
   "execution_count": 8,
   "id": "63f31df6",
   "metadata": {
    "scrolled": false
   },
   "outputs": [
    {
     "name": "stderr",
     "output_type": "stream",
     "text": [
      "100%|████████████████████████████████████████████████████████████████████████████████| 280/280 [26:26<00:00,  5.67s/it]\n"
     ]
    }
   ],
   "source": [
    "# NEXT 183 \n",
    "ctr = 0\n",
    "# Detect red, save png psd, resize, save png psd\n",
    "allLayers=[]\n",
    "input_dir = r'C:\\Users\\dahom\\Desktop\\ps_screen\\output\\Screens_640\\Screens_PSD'\n",
    "output1_dir = r\"C:\\Users\\dahom\\Desktop\\ps_screen\\changeRedToCyan\\output_640\"\n",
    "output2_dir = r\"C:\\Users\\dahom\\Desktop\\ps_screen\\changeRedToCyan\\output_800\"\n",
    "for root, directories, files in os.walk(input_dir, topdown=False):\n",
    "    for name in tqdm(files):\n",
    "        ctr += 1\n",
    "        if(ctr < 183): \n",
    "            continue\n",
    "        \n",
    "        file_path = os.path.join(root, name)\n",
    "        noextName = os.path.splitext(name)[0]\n",
    "        app.Open(file_path)\n",
    "        doc = app.Application.ActiveDocument\n",
    "        save = False\n",
    "        \n",
    "        layers = getAllLayers(doc, allLayers)\n",
    "        for layer in layers:\n",
    "            if (layer.kind == 2 and layer.visible and layer.textItem.color.rgb.hexValue == 'E30613'):\n",
    "                    solidColor = win32com.client.Dispatch('Photoshop.SolidColor')\n",
    "                    solidColor.rgb.hexValue = \"008B93\"\n",
    "                    layer.textItem.color = solidColor                    \n",
    "                    save = True\n",
    "        \n",
    "        if(save):\n",
    "            saveTo(os.path.join(output1_dir, noextName), 1) # save to output\n",
    "            saveTo(os.path.join(output1_dir, name),0) # save to output\n",
    "#         Resize and Save\n",
    "            rasterizeProblematic(layers)\n",
    "            doc.ResizeImage(800, 600, 150, 8)\n",
    "            saveTo(os.path.join(output2_dir, noextName), 1) # save to output\n",
    "            saveTo(os.path.join(output2_dir, name),0) # save to output\n",
    "        doc.Close(2)\n",
    "\n"
   ]
  },
  {
   "cell_type": "code",
   "execution_count": null,
   "id": "074df7b8",
   "metadata": {},
   "outputs": [],
   "source": []
  }
 ],
 "metadata": {
  "kernelspec": {
   "display_name": "Python 3 (ipykernel)",
   "language": "python",
   "name": "python3"
  },
  "language_info": {
   "codemirror_mode": {
    "name": "ipython",
    "version": 3
   },
   "file_extension": ".py",
   "mimetype": "text/x-python",
   "name": "python",
   "nbconvert_exporter": "python",
   "pygments_lexer": "ipython3",
   "version": "3.8.6"
  }
 },
 "nbformat": 4,
 "nbformat_minor": 5
}
